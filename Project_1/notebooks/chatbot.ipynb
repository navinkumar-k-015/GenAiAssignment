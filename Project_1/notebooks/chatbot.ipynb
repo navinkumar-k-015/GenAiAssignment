{
 "cells": [
  {
   "cell_type": "code",
   "execution_count": 5,
   "id": "7db84b73-731f-4bd1-a702-088fa2239c7c",
   "metadata": {},
   "outputs": [],
   "source": [
    "from langchain import PromptTemplate\n",
    "from langchain.chains import LLMChain, SimpleSequentialChain\n",
    "from langchain.schema.runnable import RunnablePassthrough\n",
    "from langchain_core.output_parsers import StrOutputParser\n",
    "import os\n",
    "from langchain.text_splitter import MarkdownTextSplitter\n",
    "from langchain_community.vectorstores import FAISS\n",
    "from langchain.chat_models import ChatOpenAI\n",
    "\n",
    "\n",
    "GITHUB_TOKEN = \"\"\n",
    "endpoint = 'https://models.inference.ai.azure.com' \n",
    "llm = ChatOpenAI( openai_api_base=endpoint, openai_api_key=GITHUB_TOKEN, model=\"gpt-4o-mini\")\n",
    "\n",
    "\n",
    "template = \"\"\"\n",
    "You are a Ubuntu Expert. This Human will ask you questions about Ubuntu.\n",
    "\n",
    "Question:\n",
    "{question}\n",
    "\n",
    "Answer:\"\"\"\n",
    "\n",
    "prompt = PromptTemplate(\n",
    "    template=template,\n",
    "    input_variables=[\"question\"]\n",
    ")\n",
    "\n",
    "output_parser = StrOutputParser()\n",
    "chain = LLMChain(prompt=prompt, llm=llm, output_parser=output_parser)\n",
    "\n",
    "def get_llm_response(question):\n",
    "    \n",
    "    answer = chain.invoke({\"question\": question})\n",
    "    return answer"
   ]
  },
  {
   "cell_type": "code",
   "execution_count": 6,
   "id": "1fee54d1-c42a-4a4b-aa71-96d865616cf0",
   "metadata": {},
   "outputs": [
    {
     "data": {
      "text/plain": [
       "{'question': 'Get details of how to set up advance production model',\n",
       " 'text': \"Setting up an advanced production model on Ubuntu involves several steps, including system preparation, environment setup, and deployment. Below is a general guideline that can be adapted based on the specific requirements of your production model, such as the type of application you're deploying (web app, machine learning model, etc.):\\n\\n### 1. System Preparation\\n- **Install Ubuntu**: Ensure you have a clean installation of Ubuntu Server or Desktop (preferably LTS version for stability).\\n- **Update System**: Keep your system updated with the latest packages.\\n  ```bash\\n  sudo apt update\\n  sudo apt upgrade -y\\n  ```\\n- **Set Up Firewall**: Use `ufw` to configure a firewall.\\n  ```bash\\n  sudo ufw allow OpenSSH\\n  sudo ufw enable\\n  ```\\n\\n### 2. Environment Setup\\n- **Install Required Software**: Depending on your application, install necessary packages. For example, if you're setting up a web server:\\n  ```bash\\n  sudo apt install nginx\\n  ```\\n- **Database Setup**: If your application requires a database, install and configure it (e.g., MySQL, PostgreSQL).\\n  ```bash\\n  sudo apt install mysql-server\\n  sudo mysql_secure_installation\\n  ```\\n\\n### 3. Version Control\\n- **Install Git**: To manage your code effectively.\\n  ```bash\\n  sudo apt install git\\n  ```\\n\\n### 4. Development Environment\\n- **Set Up Virtual Environments**: If you’re using Python, for instance, set up virtual environments using `venv` or `conda`.\\n  ```bash\\n  sudo apt install python3-venv\\n  python3 -m venv myenv\\n  source myenv/bin/activate\\n  ```\\n\\n### 5. Application Deployment\\n- **Deploy Your Application**: You can clone your repository from GitHub or any other source.\\n  ```bash\\n  git clone https://github.com/username/repo.git\\n  cd repo\\n  ```\\n- **Install Dependencies**: For Python applications, use:\\n  ```bash\\n  pip install -r requirements.txt\\n  ```\\n\\n### 6. Configuration\\n- **Environment Variables**: Set up environment variables as needed for your application.\\n- **Configuration Files**: Modify configuration files (e.g., Nginx, database settings) to suit your production environment.\\n\\n### 7. Security\\n- **Secure Your Application**: Implement SSL using Let's Encrypt or other certificate authorities.\\n  ```bash\\n  sudo apt install certbot python3-certbot-nginx\\n  sudo certbot --nginx\\n  ```\\n- **Regular Backups**: Set up regular backups of your application and database.\\n\\n### 8. Monitoring and Logging\\n- **Install Monitoring Tools**: Use tools like Nagios, Prometheus, or Grafana for monitoring performance.\\n- **Set Up Logging**: Ensure that your application logs are stored and monitored.\\n\\n### 9. Load Balancing and Scaling\\n- **Consider Using Docker**: Containerize your application for easier deployment and scaling.\\n- **Set Up Load Balancers**: Use Nginx or HAProxy to distribute traffic across multiple servers if necessary.\\n\\n### 10. Testing and Validation\\n- **Test Your Setup**: Ensure everything works as expected. Use automated tests if applicable.\\n- **Load Testing**: Conduct load testing to see how your application performs under stress.\\n\\n### 11. Documentation\\n- **Document Your Setup**: Keep clear documentation of your setup process, configurations, and any scripts used for deployment.\\n\\n### Conclusion\\nThis is a high-level guide to setting up an advanced production model on Ubuntu. The specifics may vary based on the application requirements and the tools you choose to use. Always refer to the official documentation of the software and tools you are using for the most accurate and detailed instructions.\"}"
      ]
     },
     "execution_count": 6,
     "metadata": {},
     "output_type": "execute_result"
    }
   ],
   "source": [
    "get_llm_response(\"Get details of how to set up advance production model\")"
   ]
  },
  {
   "cell_type": "code",
   "execution_count": null,
   "id": "1894315b-f969-46e6-b959-789b30d3830b",
   "metadata": {},
   "outputs": [],
   "source": []
  }
 ],
 "metadata": {
  "kernelspec": {
   "display_name": "Python 3 (ipykernel)",
   "language": "python",
   "name": "python3"
  },
  "language_info": {
   "codemirror_mode": {
    "name": "ipython",
    "version": 3
   },
   "file_extension": ".py",
   "mimetype": "text/x-python",
   "name": "python",
   "nbconvert_exporter": "python",
   "pygments_lexer": "ipython3",
   "version": "3.9.16"
  }
 },
 "nbformat": 4,
 "nbformat_minor": 5
}
