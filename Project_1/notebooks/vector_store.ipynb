{
 "cells": [
  {
   "cell_type": "code",
   "execution_count": 5,
   "id": "0c50d285-4c35-4471-b192-d141746d58f1",
   "metadata": {},
   "outputs": [],
   "source": [
    "import os\n",
    "# from sentence_transformers import SentenceTransformer\n",
    "from langchain.text_splitter import MarkdownHeaderTextSplitter\n",
    "from langchain_community.vectorstores import FAISS\n",
    "import re\n",
    "import yaml\n",
    "from langchain.schema import Document\n",
    "from langchain_huggingface import HuggingFaceEmbeddings\n",
    "\n",
    "import torch\n",
    "torch.optim.lr_scheduler.LRScheduler = torch.optim.lr_scheduler._LRScheduler\n",
    "\n",
    "embeddings = HuggingFaceEmbeddings(model_name=\"all-MiniLM-L6-v2\")\n",
    "\n",
    "headers_to_split_on = [\n",
    "    (\"#\", \"Header 1\"),\n",
    "    (\"##\", \"Header 2\"),\n",
    "    (\"###\", \"Header 3\"),\n",
    "    (\"####\", \"Header 4\"),\n",
    "]\n",
    "markdown_splitter = MarkdownHeaderTextSplitter(headers_to_split_on=headers_to_split_on)\n",
    "\n",
    "def extract_front_matter(content):\n",
    "    \"\"\"Extract YAML front matter from markdown content.\"\"\"\n",
    "    front_matter_regex = r\"^---\\n(.*?)\\n---\"\n",
    "    match = re.search(front_matter_regex, content, re.DOTALL)\n",
    "    if match:\n",
    "        front_matter_content = match.group(1)\n",
    "        return yaml.safe_load(front_matter_content)\n",
    "    return {}\n",
    "\n",
    "def process_directory_for_files(base_dir):\n",
    "    documents = []\n",
    "    metadata_list = []\n",
    "\n",
    "    for root, _, files in os.walk(base_dir):\n",
    "        path_parts = os.path.relpath(root, start=base_dir).split(os.sep)\n",
    "        # Collect directory metadata\n",
    "        if '.ipynb_checkpoints' in path_parts:\n",
    "            continue\n",
    "        section = path_parts[-1] if path_parts else 'root'\n",
    "        topic = path_parts[-2] if len(path_parts) > 1 else None\n",
    "\n",
    "        for file in files:\n",
    "            if file.endswith(\".md\"):\n",
    "                file_path = os.path.join(root, file)\n",
    "                with open(file_path, 'r', encoding='utf8') as f:\n",
    "                    content = f.read()\n",
    "                    \n",
    "                    # Extract and parse front matter\n",
    "                    front_matter = extract_front_matter(content)\n",
    "                    title = front_matter.get(\"title\", \"Untitled\")\n",
    "\n",
    "                    # Remove the front matter from content\n",
    "                    content_body = re.sub(r\"^---\\n(.*?)\\n---\", \"\", content, count=1, flags=re.DOTALL)\n",
    "                    \n",
    "                    # Capture header-based content\n",
    "                    header_splits = markdown_splitter.split_text(content_body)\n",
    "\n",
    "                    for split in header_splits:\n",
    "                        # Combine all types of metadata into enriched chunks\n",
    "                        enriched_metadata = f\"Title: {title}, Section: {section}, Topic: {topic or 'General'},  Header: {split.metadata}.\"\n",
    "                        enriched_chunk = f\"{enriched_metadata}<META>\\n{split.page_content}\"\n",
    "\n",
    "                        # Append enriched chunk to documents\n",
    "\n",
    "                        # Save metadata for retrieval context\n",
    "                        metadata = {\n",
    "                            'title': title,\n",
    "                            'topic': topic,\n",
    "                            'section': section,\n",
    "                            'header': \" \".join([f\"{header}: {text}\" for header, text in split.metadata.items()]),\n",
    "                            'file': file_path,\n",
    "                        }\n",
    "                        document = Document(page_content=enriched_chunk, metadata=metadata)\n",
    "                        documents.append(document)\n",
    "\n",
    "    # Create FAISS index using the enriched documents\n",
    "    vectorstore = FAISS.from_documents(documents, embeddings)\n",
    "    return vectorstore, metadata_list\n",
    "\n",
    "# Base directory where your markdown files are located\n",
    "base_directory = \"demo_bot_data/ubuntu-docs/\"\n",
    "vectorstore, metadata = process_directory_for_files(base_directory)\n",
    "\n",
    "# Create a retriever to query the FAISS index\n",
    "faiss_retriever = vectorstore.as_retriever(search_kwargs={'k': 7,'fetch_k': 50})\n",
    "\n",
    "# Function to perform retrieval\n",
    "def get_context(query):\n",
    "    retrieved_docs = faiss_retriever.invoke(query)\n",
    "    files = []\n",
    "    context = \"\"\n",
    "    for result in retrieved_docs[:5]:\n",
    "        files.append(result.metadata['file'])\n",
    "    max_file_name = max(files,key=files.count)\n",
    "    with open(max_file_name, 'r', encoding='utf8') as f:\n",
    "            full_content = f.read()\n",
    "    for result in retrieved_docs:\n",
    "        chunk = result.page_content.split(\"<META>\")[1]\n",
    "        context += f\"{result.metadata}\" + \" \\n \" + chunk + \" \\n \"\n",
    "        headers = result.metadata.get('header', 'N/A').replace(' Header ', '\\n  - ')\n",
    "    context += full_content\n",
    "    return context"
   ]
  },
  {
   "cell_type": "code",
   "execution_count": null,
   "id": "082fa5bb-6596-47e9-867a-0f23c401070b",
   "metadata": {},
   "outputs": [],
   "source": []
  },
  {
   "cell_type": "code",
   "execution_count": 6,
   "id": "f399be32-9707-420d-ac2d-b54b76c57a30",
   "metadata": {
    "scrolled": true,
    "tags": []
   },
   "outputs": [
    {
     "data": {
      "text/plain": [
       "'{\\'title\\': \\'Advanced production model - Brand store\\', \\'topic\\': \\'guides\\', \\'section\\': \\'go-to-production\\', \\'header\\': \\'Header 1: Advanced production model\\', \\'file\\': \\'demo_bot_data/ubuntu-docs/guides/go-to-production/advanced.md\\'} \\n \\nHere we provide an overview of the advanced production model:  \\n* You define your own device type and hence have one or more of:\\n* A kernel snap of you choice. See the [board enablement overview](../build-device/board-enablement.html) for details.\\n* A gadget snap that you have created. See the [board enablement overview](../build-device/board-enablement.html) for details.\\n* A factory image that contains snaps that are not publicly available\\n* You curate your own store of snaps, a [Brand store](../../build-store)\\n* You want _Update Control_, to decide when updates are published to devices you have created  \\nThey provide all the functionality and control required to manage your device ecosystem.  \\n![\"Advanced Production Model\"](../../../media/production-model-rich.png) \\n {\\'title\\': \\'Introduction\\', \\'topic\\': \\'guides\\', \\'section\\': \\'go-to-production\\', \\'header\\': \\'Header 1: Introduction Header 2: Advanced production model overview\\', \\'file\\': \\'demo_bot_data/ubuntu-docs/guides/go-to-production/intro.md\\'} \\n \\nThe second production model fits a range of additional cases. For example:  \\n* You want a brand store to host private snaps for your devices\\n* You might use a customized kernel snap or a highly customized gadget snap (the advanced model requires a customized gadget snap but the required customizations are minimal).  \\nThis production model involves a bit more work, but it does offer a much wider range of options.  \\nFor a closer look, see [advanced production model](advanced.md). \\n {\\'title\\': \\'Simple production model - Ubuntu store\\', \\'topic\\': \\'guides\\', \\'section\\': \\'go-to-production\\', \\'header\\': \\'Header 1: Simple production model Header 2: Distribute your devices\\', \\'file\\': \\'demo_bot_data/ubuntu-docs/guides/go-to-production/simple.md\\'} \\n \\nObviously, the approach for getting your devices into customers hands in the field is up to you. \\n {\\'title\\': \\'Advanced production model - Brand store\\', \\'topic\\': \\'guides\\', \\'section\\': \\'go-to-production\\', \\'header\\': \\'Header 1: Advanced production model Header 2: Distribute your devices\\', \\'file\\': \\'demo_bot_data/ubuntu-docs/guides/go-to-production/advanced.md\\'} \\n \\nWhen your devices are in the field and operational they will communicate with your brand store to identify when updates are available or to install snaps that the user wants. \\n {\\'title\\': \\'Simple production model - Ubuntu store\\', \\'topic\\': \\'guides\\', \\'section\\': \\'go-to-production\\', \\'header\\': \\'Header 1: Simple production model Header 2: Steps\\', \\'file\\': \\'demo_bot_data/ubuntu-docs/guides/go-to-production/simple.md\\'} \\n \\nThe high level steps are few for this production model:  \\n1. Develop your own _extra_ snaps and publish them in the Ubuntu store as freely available\\n1. Create a _model assertion_ and sign it using a key you have registered with the store\\n1. Create your device image (including your extra snaps) with your signed model assertion\\n1. Flash your image onto your devices (the _factory_ stage)\\n1. Distribute your devices.  \\nLet\\'s take a closer look at these steps. \\n {\\'title\\': \\'Advanced production model - Brand store\\', \\'topic\\': \\'guides\\', \\'section\\': \\'go-to-production\\', \\'header\\': \\'Header 1: Advanced production model Header 2: Build the image\\', \\'file\\': \\'demo_bot_data/ubuntu-docs/guides/go-to-production/advanced.md\\'} \\n \\nSteps for creating an image from the signed model assertion are found [here](../build-device/image-building). \\n {\\'title\\': \\'Simple production model - Ubuntu store\\', \\'topic\\': \\'guides\\', \\'section\\': \\'go-to-production\\', \\'header\\': \\'Header 1: Simple production model Header 2: Factory: flash your devices\\', \\'file\\': \\'demo_bot_data/ubuntu-docs/guides/go-to-production/simple.md\\'} \\n \\nNow, flash your devices with the image file you created. One approach is to use the `dd` command to flash the image to unpartitioned and unmounted SD cards that are destined for the devices. Details here may of course vary depending on your factory process. \\n ---\\ntitle: Advanced production model - Brand store\\ntable_of_contents: true\\n---\\n\\n# Advanced production model\\n\\nHere we provide an overview of the advanced production model:\\n\\n* You define your own device type and hence have one or more of:\\n    * A kernel snap of you choice. See the [board enablement overview](../build-device/board-enablement.html) for details.\\n    * A gadget snap that you have created. See the [board enablement overview](../build-device/board-enablement.html) for details.\\n    * A factory image that contains snaps that are not publicly available\\n* You curate your own store of snaps, a [Brand store](../../build-store)\\n* You want _Update Control_, to decide when updates are published to devices you have created\\n\\nThey provide all the functionality and control required to manage your device ecosystem.\\n\\n![\"Advanced Production Model\"](../../../media/production-model-rich.png)\\n\\n## Steps\\n\\nThe high level steps for this production model are:\\n\\n1. Contact your Canonical representative to:\\n    * Create you a _Brand Account_\\n    * Create your _[Brand store](../../build-store)_ associated with this account\\n    * Provide instructions on tools and process needed for manufacturing\\n1. Create your gadget snap and publish it in your store\\n1. Create the extra snaps needed for your device\\'s base functionality and publish them in your store\\n1. Create a _model assertion_ and sign it using a key you have registered with the store\\n1. Create your device image (including your extra snaps) using the _signed model assertion_\\n1. Flash your image to your devices at your production facility / factory\\n1. Perform an initial boot of the device in the factory to get a _signed serial assertion_ from a _Serial Vault_\\n1. Distribute your devices to the consumer\\n\\nLet\\'s take a closer look at some these steps.\\n\\n## Create your gadget snap\\n\\nThe reference section contains detailed information about the format of a gadget snap: [Gadget Snap Format](../../reference/gadget.html)\\n\\nOf particular importance is the prepare-device hook which must contain the details how to contact your Serial Vault (see later section).\\n\\n## Create the extra snaps\\n\\nOnce your snap is working as expected, publish it to the brand store. These snaps will only be available to devices whose model assertion specifies your brand and store.\\n\\nDetailed information about building snap packages can be found on [snapcraft.io](http://snapcraft.io).\\n\\n## Create a model assertion\\n\\nSteps for creating a signed model assertion are provided [here](../build-device/image-building).\\n\\nLet\\'s look at a sample of the JSON file used as input when creating a model assertion for a fictional device, the \"Device 1\", made by the brand \"ACME Corp\". The host architecture is armhf. The image will be populated with the gadget and kernel snaps that support this hardware, the core snap, and two extra snaps required for the device to function correctly, \"acme-dashboard\" and \"acme-control-plane\". Note that the `authority-id` and `brand-id` match the `account-id` defined for the ACME Corp account.\\n\\n    {\\n      \"type\": \"model\",\\n      \"authority-id\": \"acme\",\\n      \"brand-id\": \"acme\",\\n      \"store\": \"abcdef123456789\"\\n      \"series\": \"16\",\\n      \"model\": \"acme-device-1\",\\n      \"architecture\": \"armhf\",\\n      \"gadget\": \"device-1\",\\n      \"kernel\": \"device-1-kernel\",\\n      \"required-snaps\": [\"acme-dashboard\", \"acme-control-plane\"],\\n      \"timestamp\": \"2016-12-01T12:00:00+00:00\"\\n    }\\n\\nAs noted in the image building documentation, you sign it with your registered key, which produces your signed model assertion file, which is used in the next step to build your image.\\n\\n## Build the image\\n\\nSteps for creating an image from the signed model assertion are found [here](../build-device/image-building).\\n\\n## Factory flash you device\\n\\nThe process requires a serial assertion signed by your brand account. To support you in managing you keys and signing the serial assertion during the production process Canonical have developed an open source tool called the [Serial Vault](http://github.com/ubuntu-core/identity-vault).\\n\\nThe Serial Vault allows you to make sure the device leaves production ready to communicate with the brand store and gives you confidence that only devices produced by you have access to your snaps.\\n\\n## Distribute your devices\\n\\nWhen your devices are in the field and operational they will communicate with your brand store to identify when updates are available or to install snaps that the user wants.\\n'"
      ]
     },
     "execution_count": 6,
     "metadata": {},
     "output_type": "execute_result"
    }
   ],
   "source": [
    "query = \"How to make advance production model\"\n",
    "get_context(query)"
   ]
  },
  {
   "cell_type": "code",
   "execution_count": null,
   "id": "00c6a425-ed9f-40ec-9277-757e7c552c57",
   "metadata": {},
   "outputs": [],
   "source": []
  }
 ],
 "metadata": {
  "kernelspec": {
   "display_name": "Python 3 (ipykernel)",
   "language": "python",
   "name": "python3"
  },
  "language_info": {
   "codemirror_mode": {
    "name": "ipython",
    "version": 3
   },
   "file_extension": ".py",
   "mimetype": "text/x-python",
   "name": "python",
   "nbconvert_exporter": "python",
   "pygments_lexer": "ipython3",
   "version": "3.9.16"
  }
 },
 "nbformat": 4,
 "nbformat_minor": 5
}
