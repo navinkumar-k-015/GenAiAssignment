{
 "cells": [
  {
   "cell_type": "code",
   "execution_count": 1,
   "id": "0d8243cf-5be8-4623-9f22-d839a9251d18",
   "metadata": {},
   "outputs": [
    {
     "name": "stdout",
     "output_type": "stream",
     "text": [
      "Archive:  text_classification_ecomm.zip\n",
      "  inflating: ecommerceDataset.csv    \n"
     ]
    }
   ],
   "source": [
    "!unzip text_classification_ecomm.zip"
   ]
  },
  {
   "cell_type": "code",
   "execution_count": 1,
   "id": "bc3c60f4-06d2-4db8-9f29-4baef3a74723",
   "metadata": {},
   "outputs": [],
   "source": [
    "import pandas as pd"
   ]
  },
  {
   "cell_type": "markdown",
   "id": "701b8a7a-76a6-4136-a3cd-2dbbd99354f8",
   "metadata": {},
   "source": [
    "## Checking Data\n"
   ]
  },
  {
   "cell_type": "code",
   "execution_count": 2,
   "id": "71f2a324-6f95-4c15-8af3-428b44f8cf59",
   "metadata": {},
   "outputs": [],
   "source": [
    "column_names = [\"Class\", \"Text\"]\n",
    "df = pd.read_csv(\"ecommerceDataset.csv\", header=None, names=column_names)"
   ]
  },
  {
   "cell_type": "code",
   "execution_count": 3,
   "id": "24c9b695-5a5d-4bf4-8d78-3466efcaaf67",
   "metadata": {},
   "outputs": [
    {
     "data": {
      "text/html": [
       "<div>\n",
       "<style scoped>\n",
       "    .dataframe tbody tr th:only-of-type {\n",
       "        vertical-align: middle;\n",
       "    }\n",
       "\n",
       "    .dataframe tbody tr th {\n",
       "        vertical-align: top;\n",
       "    }\n",
       "\n",
       "    .dataframe thead th {\n",
       "        text-align: right;\n",
       "    }\n",
       "</style>\n",
       "<table border=\"1\" class=\"dataframe\">\n",
       "  <thead>\n",
       "    <tr style=\"text-align: right;\">\n",
       "      <th></th>\n",
       "      <th>Class</th>\n",
       "      <th>Text</th>\n",
       "    </tr>\n",
       "  </thead>\n",
       "  <tbody>\n",
       "    <tr>\n",
       "      <th>0</th>\n",
       "      <td>Household</td>\n",
       "      <td>Paper Plane Design Framed Wall Hanging Motivat...</td>\n",
       "    </tr>\n",
       "    <tr>\n",
       "      <th>1</th>\n",
       "      <td>Household</td>\n",
       "      <td>SAF 'Floral' Framed Painting (Wood, 30 inch x ...</td>\n",
       "    </tr>\n",
       "    <tr>\n",
       "      <th>2</th>\n",
       "      <td>Household</td>\n",
       "      <td>SAF 'UV Textured Modern Art Print Framed' Pain...</td>\n",
       "    </tr>\n",
       "    <tr>\n",
       "      <th>3</th>\n",
       "      <td>Household</td>\n",
       "      <td>SAF Flower Print Framed Painting (Synthetic, 1...</td>\n",
       "    </tr>\n",
       "    <tr>\n",
       "      <th>4</th>\n",
       "      <td>Household</td>\n",
       "      <td>Incredible Gifts India Wooden Happy Birthday U...</td>\n",
       "    </tr>\n",
       "  </tbody>\n",
       "</table>\n",
       "</div>"
      ],
      "text/plain": [
       "       Class                                               Text\n",
       "0  Household  Paper Plane Design Framed Wall Hanging Motivat...\n",
       "1  Household  SAF 'Floral' Framed Painting (Wood, 30 inch x ...\n",
       "2  Household  SAF 'UV Textured Modern Art Print Framed' Pain...\n",
       "3  Household  SAF Flower Print Framed Painting (Synthetic, 1...\n",
       "4  Household  Incredible Gifts India Wooden Happy Birthday U..."
      ]
     },
     "execution_count": 3,
     "metadata": {},
     "output_type": "execute_result"
    }
   ],
   "source": [
    "df.head()"
   ]
  },
  {
   "cell_type": "code",
   "execution_count": 4,
   "id": "7c2f090f-d0f1-4701-8304-d65e3f2c184e",
   "metadata": {},
   "outputs": [
    {
     "data": {
      "text/html": [
       "<div>\n",
       "<style scoped>\n",
       "    .dataframe tbody tr th:only-of-type {\n",
       "        vertical-align: middle;\n",
       "    }\n",
       "\n",
       "    .dataframe tbody tr th {\n",
       "        vertical-align: top;\n",
       "    }\n",
       "\n",
       "    .dataframe thead th {\n",
       "        text-align: right;\n",
       "    }\n",
       "</style>\n",
       "<table border=\"1\" class=\"dataframe\">\n",
       "  <thead>\n",
       "    <tr style=\"text-align: right;\">\n",
       "      <th></th>\n",
       "      <th>Class</th>\n",
       "      <th>Text</th>\n",
       "    </tr>\n",
       "  </thead>\n",
       "  <tbody>\n",
       "    <tr>\n",
       "      <th>50420</th>\n",
       "      <td>Electronics</td>\n",
       "      <td>Strontium MicroSD Class 10 8GB Memory Card (Bl...</td>\n",
       "    </tr>\n",
       "    <tr>\n",
       "      <th>50421</th>\n",
       "      <td>Electronics</td>\n",
       "      <td>CrossBeats Wave Waterproof Bluetooth Wireless ...</td>\n",
       "    </tr>\n",
       "    <tr>\n",
       "      <th>50422</th>\n",
       "      <td>Electronics</td>\n",
       "      <td>Karbonn Titanium Wind W4 (White) Karbonn Titan...</td>\n",
       "    </tr>\n",
       "    <tr>\n",
       "      <th>50423</th>\n",
       "      <td>Electronics</td>\n",
       "      <td>Samsung Guru FM Plus (SM-B110E/D, Black) Colou...</td>\n",
       "    </tr>\n",
       "    <tr>\n",
       "      <th>50424</th>\n",
       "      <td>Electronics</td>\n",
       "      <td>Micromax Canvas Win W121 (White)</td>\n",
       "    </tr>\n",
       "  </tbody>\n",
       "</table>\n",
       "</div>"
      ],
      "text/plain": [
       "             Class                                               Text\n",
       "50420  Electronics  Strontium MicroSD Class 10 8GB Memory Card (Bl...\n",
       "50421  Electronics  CrossBeats Wave Waterproof Bluetooth Wireless ...\n",
       "50422  Electronics  Karbonn Titanium Wind W4 (White) Karbonn Titan...\n",
       "50423  Electronics  Samsung Guru FM Plus (SM-B110E/D, Black) Colou...\n",
       "50424  Electronics                   Micromax Canvas Win W121 (White)"
      ]
     },
     "execution_count": 4,
     "metadata": {},
     "output_type": "execute_result"
    }
   ],
   "source": [
    "df.tail()"
   ]
  },
  {
   "cell_type": "code",
   "execution_count": 5,
   "id": "3dfc7f6d-d05c-4a07-87e0-f048b45979ed",
   "metadata": {},
   "outputs": [
    {
     "data": {
      "text/plain": [
       "'Paper Plane Design Framed Wall Hanging Motivational Office Decor Art Prints (8.7 X 8.7 inch) - Set of 4 Painting made up in synthetic frame with uv textured print which gives multi effects and attracts towards it. This is an special series of paintings which makes your wall very beautiful and gives a royal touch. This painting is ready to hang, you would be proud to possess this unique painting that is a niche apart. We use only the most modern and efficient printing technology on our prints, with only the and inks and precision epson, roland and hp printers. This innovative hd printing technique results in durable and spectacular looking prints of the highest that last a lifetime. We print solely with top-notch 100% inks, to achieve brilliant and true colours. Due to their high level of uv resistance, our prints retain their beautiful colours for many years. Add colour and style to your living space with this digitally printed painting. Some are for pleasure and some for eternal bliss.so bring home this elegant print that is lushed with rich colors that makes it nothing but sheer elegance to be to your friends and family.it would be treasured forever by whoever your lucky recipient is. Liven up your place with these intriguing paintings that are high definition hd graphic digital prints for home, office or any room.'"
      ]
     },
     "execution_count": 5,
     "metadata": {},
     "output_type": "execute_result"
    }
   ],
   "source": [
    "df.at[0,\"Text\"]"
   ]
  },
  {
   "cell_type": "code",
   "execution_count": 6,
   "id": "db375bbf-6981-4529-ad1c-fd9beecb7932",
   "metadata": {},
   "outputs": [
    {
     "data": {
      "text/plain": [
       "'Samsung Guru FM Plus (SM-B110E/D, Black) Colour:Black   Compact Design If you are looking for a phone that is both simple and sturdy, checkout the Samsung Guru FM Plus SM-B110E/D Mobile Phone. At a pocket-friendly price, comes this plain black Feature Mobile Phone to serve all your basic needs. With the dependable trust of Samsung, moreover, you experience its glitch-free seamless functionality. Guru FM Plus Phone comes packed with 208 MHz Single-Core Processor and 4 MB RAM. Further, the Dual 2G GSM SIM Mobile Phone is light-weight at 66 gm and extremely easy-to-operate letting you stay connected with your friends and family always. Display and User-Friendly Interface This Samsung Guru Handset features 1.5 inches TFT Display and gives you a vista of useful widgets. Owing to its 65 K Colour Support, the screen looks colourfully radiant. Guru FM Plus Phone gives you immense comfort of view as well. Your recent calls streamline better. The major menu icons are more user-responsive. And, your missed calls and SMS notifications are visible from the upgraded locked screen. Its navigation keys allow you to conveniently scroll through the Phone functions.  Exterior From the front, the keys and the two vertical sides of Samsung Guru FM Plus SM-B110E/D Feature Phone have silver lining that makes the Mobile Phone look attractive. It is encased in a leather-like texture at the rear side. Furthermore, the verges are curved and the leather-texture rear outer lets you hold the device safely with firm grip. This Samsung Guru FM Plus is also available in white and dark blue versions. Built-In Features The Samsung Guru FM Plus SM-B110E/D Feature Mobile Phone is fitted with some great in-built features. You can enjoy FM radio channels or listen to MP3 and MIDI format songs. You also have beautiful nature-wallpapers that come with this Mobile Phone to deck your home screen. For power back-up, Samsung Guru 800 mAh battery provides you 10 hours talk-time on 2G GSM.'"
      ]
     },
     "execution_count": 6,
     "metadata": {},
     "output_type": "execute_result"
    }
   ],
   "source": [
    "df.at[50423,\"Text\"]"
   ]
  },
  {
   "cell_type": "markdown",
   "id": "9f8c0a82-a2ba-46df-8543-671594e179f3",
   "metadata": {},
   "source": [
    "## Checking For Missing Values"
   ]
  },
  {
   "cell_type": "code",
   "execution_count": 7,
   "id": "d8f974f4-d233-43e7-bb4c-20742633e3f5",
   "metadata": {},
   "outputs": [],
   "source": [
    "missing_values = df.isnull().sum()\n"
   ]
  },
  {
   "cell_type": "code",
   "execution_count": 8,
   "id": "a4dfe9cc-a37d-4061-abd5-ffd86429cba1",
   "metadata": {},
   "outputs": [
    {
     "data": {
      "text/plain": [
       "Class    0\n",
       "Text     1\n",
       "dtype: int64"
      ]
     },
     "execution_count": 8,
     "metadata": {},
     "output_type": "execute_result"
    }
   ],
   "source": [
    "missing_values"
   ]
  },
  {
   "cell_type": "code",
   "execution_count": 9,
   "id": "ea32422e-9a55-4cab-b9f6-cfe50d812f16",
   "metadata": {},
   "outputs": [],
   "source": [
    "missing_indexes = df[df.isnull().any(axis=1)].index\n"
   ]
  },
  {
   "cell_type": "code",
   "execution_count": 10,
   "id": "5ad7b10a-11c4-479c-b636-b1476f4f73f7",
   "metadata": {},
   "outputs": [
    {
     "data": {
      "text/plain": [
       "Int64Index([39330], dtype='int64')"
      ]
     },
     "execution_count": 10,
     "metadata": {},
     "output_type": "execute_result"
    }
   ],
   "source": [
    "missing_indexes"
   ]
  },
  {
   "cell_type": "code",
   "execution_count": 11,
   "id": "78244fc0-5152-4e9e-81e6-159913b1d69e",
   "metadata": {},
   "outputs": [],
   "source": [
    "df_cleaned = df.dropna()\n",
    "\n",
    "df_cleaned = df_cleaned.reset_index(drop=True)"
   ]
  },
  {
   "cell_type": "code",
   "execution_count": 12,
   "id": "dc02a0ec-350f-4495-9908-768b29f856d9",
   "metadata": {},
   "outputs": [],
   "source": [
    "df = df_cleaned"
   ]
  },
  {
   "cell_type": "markdown",
   "id": "ad85a141-6370-4ae8-b8eb-0a2d31600312",
   "metadata": {},
   "source": [
    "## Dropping Duplicates"
   ]
  },
  {
   "cell_type": "code",
   "execution_count": 13,
   "id": "030a0be2-7b15-4385-8aa5-30c54c1efdce",
   "metadata": {},
   "outputs": [],
   "source": [
    "df = df.drop_duplicates(subset='Text', keep='first')\n",
    "df = df.dropna()\n",
    "df = df.reset_index(drop=True)"
   ]
  },
  {
   "cell_type": "markdown",
   "id": "66379131-9f25-477e-b3d6-9478eda9956d",
   "metadata": {},
   "source": [
    "## Checking Distribution"
   ]
  },
  {
   "cell_type": "code",
   "execution_count": 14,
   "id": "c89fd9d8-372f-4af7-a15c-9c89f09bcce2",
   "metadata": {},
   "outputs": [
    {
     "data": {
      "image/png": "[encoded data removed]",
      "text/plain": [
       "<Figure size 800x500 with 1 Axes>"
      ]
     },
     "metadata": {},
     "output_type": "display_data"
    },
    {
     "name": "stdout",
     "output_type": "stream",
     "text": [
      "Class Distribution:\n",
      " Household                 10564\n",
      "Books                      6256\n",
      "Clothing & Accessories     5674\n",
      "Electronics                5308\n",
      "Name: Class, dtype: int64\n"
     ]
    }
   ],
   "source": [
    "import matplotlib.pyplot as plt\n",
    "import seaborn as sns\n",
    "\n",
    "# Count occurrences of each class\n",
    "class_counts = df['Class'].value_counts()\n",
    "\n",
    "# Plot distribution\n",
    "plt.figure(figsize=(8, 5))\n",
    "sns.barplot(x=class_counts.index, y=class_counts.values, palette='viridis')\n",
    "plt.xlabel(\"Class\")\n",
    "plt.ylabel(\"Count\")\n",
    "plt.title(\"Class Distribution\")\n",
    "plt.xticks(rotation=45)\n",
    "plt.show()\n",
    "\n",
    "# Print counts\n",
    "print(\"Class Distribution:\\n\", class_counts)\n"
   ]
  },
  {
   "cell_type": "code",
   "execution_count": 15,
   "id": "cb38b424-ab87-4d46-8db6-52737e328b19",
   "metadata": {},
   "outputs": [
    {
     "data": {
      "image/png": "[encoded data removed]",
      "text/plain": [
       "<Figure size 1200x500 with 2 Axes>"
      ]
     },
     "metadata": {},
     "output_type": "display_data"
    },
    {
     "name": "stdout",
     "output_type": "stream",
     "text": [
      "         char_count    word_count\n",
      "count  27802.000000  27802.000000\n",
      "mean     699.994928    111.886915\n",
      "std     1023.019517    166.116128\n",
      "min        4.000000      1.000000\n",
      "25%      215.000000     34.000000\n",
      "50%      473.000000     76.000000\n",
      "75%      916.750000    146.000000\n",
      "max    50403.000000   8181.000000\n"
     ]
    }
   ],
   "source": [
    "import numpy as np\n",
    "\n",
    "# Add text length columns\n",
    "df['char_count'] = df['Text'].apply(len)\n",
    "df['word_count'] = df['Text'].apply(lambda x: len(str(x).split()))\n",
    "\n",
    "# Plot histograms\n",
    "fig, axes = plt.subplots(1, 2, figsize=(12, 5))\n",
    "\n",
    "sns.histplot(df['char_count'], bins=30, kde=True, ax=axes[0], color='blue')\n",
    "axes[0].set_title('Character Count Distribution')\n",
    "\n",
    "sns.histplot(df['word_count'], bins=30, kde=True, ax=axes[1], color='green')\n",
    "axes[1].set_title('Word Count Distribution')\n",
    "\n",
    "plt.show()\n",
    "\n",
    "# Print statistics\n",
    "print(df[['char_count', 'word_count']].describe())"
   ]
  },
  {
   "cell_type": "markdown",
   "id": "bf721dc5-cf5a-4f2b-8707-fcc64f9d63b0",
   "metadata": {},
   "source": [
    "## Detecting Outliers"
   ]
  },
  {
   "cell_type": "code",
   "execution_count": 16,
   "id": "4abda2b5-2c81-41e6-82eb-dd479e3b257e",
   "metadata": {},
   "outputs": [
    {
     "name": "stdout",
     "output_type": "stream",
     "text": [
      "Character Count Outliers: 1147 out of 27802 samples\n",
      "Word Count Outliers: 1208 out of 27802 samples\n"
     ]
    }
   ],
   "source": [
    "import numpy as np\n",
    "\n",
    "# Function to detect outliers using IQR\n",
    "def detect_outliers(series):\n",
    "    Q1 = np.percentile(series, 25)  # First quartile (25%)\n",
    "    Q3 = np.percentile(series, 75)  # Third quartile (75%)\n",
    "    IQR = Q3 - Q1  # Interquartile range\n",
    "    lower_bound = max(0, Q1 - 1.5 * IQR)\n",
    "    upper_bound = Q3 + 1.5 * IQR\n",
    "    return lower_bound, upper_bound\n",
    "\n",
    "# Compute outlier thresholds\n",
    "char_lower, char_upper = detect_outliers(df['char_count'])\n",
    "word_lower, word_upper = detect_outliers(df['word_count'])\n",
    "\n",
    "# Identify outliers\n",
    "char_outliers = df[(df['char_count'] < char_lower) | (df['char_count'] > char_upper)]\n",
    "word_outliers = df[(df['word_count'] < word_lower) | (df['word_count'] > word_upper)]\n",
    "\n",
    "# Print outlier statistics\n",
    "print(f\"Character Count Outliers: {char_outliers.shape[0]} out of {df.shape[0]} samples\")\n",
    "print(f\"Word Count Outliers: {word_outliers.shape[0]} out of {df.shape[0]} samples\")\n"
   ]
  },
  {
   "cell_type": "code",
   "execution_count": 17,
   "id": "c437fb70-19ae-4fb7-adcd-3fee05e8db98",
   "metadata": {},
   "outputs": [
    {
     "name": "stdout",
     "output_type": "stream",
     "text": [
      "314.0\n"
     ]
    }
   ],
   "source": [
    "print(word_upper)"
   ]
  },
  {
   "cell_type": "code",
   "execution_count": 18,
   "id": "283c7916-40b8-4031-b367-9594e565b4ec",
   "metadata": {},
   "outputs": [
    {
     "name": "stdout",
     "output_type": "stream",
     "text": [
      "0\n"
     ]
    }
   ],
   "source": [
    "print(word_lower)"
   ]
  },
  {
   "cell_type": "code",
   "execution_count": 19,
   "id": "5d853019-c03e-492a-a343-c9b9ce2c8bfc",
   "metadata": {},
   "outputs": [
    {
     "data": {
      "image/png": "[encoded data removed]",
      "text/plain": [
       "<Figure size 1000x500 with 1 Axes>"
      ]
     },
     "metadata": {},
     "output_type": "display_data"
    },
    {
     "data": {
      "image/png": "[encoded data removed]",
      "text/plain": [
       "<Figure size 1000x500 with 1 Axes>"
      ]
     },
     "metadata": {},
     "output_type": "display_data"
    }
   ],
   "source": [
    "import matplotlib.pyplot as plt\n",
    "import seaborn as sns\n",
    "\n",
    "# Plot character count boxplot\n",
    "plt.figure(figsize=(10, 5))\n",
    "sns.boxplot(x=df['char_count'], color='skyblue')\n",
    "plt.title(\"Boxplot of Character Count\")\n",
    "plt.show()\n",
    "\n",
    "# Plot word count boxplot\n",
    "plt.figure(figsize=(10, 5))\n",
    "sns.boxplot(x=df['word_count'], color='lightgreen')\n",
    "plt.title(\"Boxplot of Word Count\")\n",
    "plt.show()"
   ]
  },
  {
   "cell_type": "markdown",
   "id": "65cea031-a72d-4086-8951-fe2ca9f56aac",
   "metadata": {},
   "source": [
    "## Checking Long Words"
   ]
  },
  {
   "cell_type": "code",
   "execution_count": 21,
   "id": "26c619f1-6b3a-4848-899c-69076866e36a",
   "metadata": {},
   "outputs": [
    {
     "name": "stdout",
     "output_type": "stream",
     "text": [
      "           Class                                         long_words\n",
      "6575   Household  [taste.blender#mixer#bottle#brush#hand#beauty#...\n",
      "8213   Household  [TypeHandheld/Canister/UprightHandheldCanister...\n",
      "8367   Household  [SC323BC425SC425BC430SC4ASINB00A7PGI18B00OLP0G...\n",
      "10555  Household  [computer.a#dictionary#of#basic#japanese#gramm...\n",
      "14048      Books  [//www.accdistribution.com/us/store/pv/9789383...\n"
     ]
    }
   ],
   "source": [
    "# Function to find words with length greater than 500\n",
    "def find_long_words(text):\n",
    "    # Tokenize the text into words\n",
    "    words = text.split()\n",
    "    # Filter words with length greater than 500\n",
    "    long_words = [word for word in words if len(word) > 100]\n",
    "    return long_words\n",
    "\n",
    "# Apply the function to the text column and create a new column with long words\n",
    "df['long_words'] = df['Text'].apply(find_long_words)\n",
    "\n",
    "# Filter rows with long words\n",
    "long_words_df = df[df['long_words'].str.len() > 0]\n",
    "\n",
    "# Display the rows containing long words\n",
    "print(long_words_df[['Class', 'long_words']].head())\n"
   ]
  },
  {
   "cell_type": "code",
   "execution_count": null,
   "id": "bd9847ee-02f6-4297-9bf7-51cdcdb5dbde",
   "metadata": {},
   "outputs": [],
   "source": []
  },
  {
   "cell_type": "code",
   "execution_count": 25,
   "id": "96da4c42-e0e0-41f1-b371-f6039cb1911e",
   "metadata": {},
   "outputs": [
    {
     "data": {
      "text/plain": [
       "24"
      ]
     },
     "execution_count": 25,
     "metadata": {},
     "output_type": "execute_result"
    }
   ],
   "source": [
    "len(long_words_df)"
   ]
  },
  {
   "cell_type": "code",
   "execution_count": 81,
   "id": "f8e2dcb2-00ff-46a8-a40f-84127bf8d6d2",
   "metadata": {
    "scrolled": true,
    "tags": []
   },
   "outputs": [
    {
     "data": {
      "text/plain": [
       "\"SAF 'UV Textured Modern Art Print Framed' Painting (Synthetic, 35 cm x 50 cm x 3 cm, Set of 3) Color:Multicolor                                                                                \\xa0|\\xa0                           Size:35 cm x 50 cm x 3 cm   Overview a beautiful painting involves the action or skill of using paint in the right manner; hence, the end product will be a picture that can speak a thousand words they say. Arts have been in trend for quite some time now. It can give different viewer different meanings style and design the SAF wood matte abstract painting with frame is quite abstract and mysteriously beautiful. The painting has a nice frame to it. You can gift this to a family or a friend. The painting has various forms of certain figures on it as seen in the image. You can add a good set of lights to the place where the painting is and the decor will give a different feel and look to the place. Quality and durability the painting has a matte finish and includes a good quality frame and will last for a long period. However, it does not include glass along with the frame. Specifications you can purchase SAF wood matte abstract painting with frame on amazon.in. It is the most customer-friendly platform with a wide range of products to choose from, and shopping is just a click away!\""
      ]
     },
     "execution_count": 81,
     "metadata": {},
     "output_type": "execute_result"
    }
   ],
   "source": [
    "df.at[2, 'Text']"
   ]
  },
  {
   "cell_type": "markdown",
   "id": "f26f338e-0e77-41f1-88d3-15de30762781",
   "metadata": {},
   "source": [
    "## Checking Random Values to Understand Noisy Text"
   ]
  },
  {
   "cell_type": "code",
   "execution_count": 38,
   "id": "6b63f302-a243-4c04-9b53-f97734b5185f",
   "metadata": {},
   "outputs": [
    {
     "name": "stdout",
     "output_type": "stream",
     "text": [
      "Household Whirlpool 190 L 3 Star Direct-Cool Single-Door Refrigerator (WDE 205 ROY 3S, Sapphire Fiesta) Color:Sapphire Fiesta   The refrigerator comes with fastest ice making technology which effortlessly maintains coldest of temperatures. The refrigerator shelf is made of toughened glass and it has unique chrome recess handle.\n"
     ]
    }
   ],
   "source": [
    "import random\n",
    "\n",
    "# Randomly pick a row from the DataFrame\n",
    "random_row = df.sample(n=1, random_state=random.randint(1, 27802))\n",
    "\n",
    "# Display the text from the randomly picked row\n",
    "print(random_row['Class'].values[0],random_row['Text'].values[0])"
   ]
  },
  {
   "cell_type": "code",
   "execution_count": null,
   "id": "6e5245ee-8cae-44b2-8575-e102b748ac96",
   "metadata": {
    "scrolled": true,
    "tags": []
   },
   "outputs": [],
   "source": []
  },
  {
   "cell_type": "code",
   "execution_count": null,
   "id": "ad3cc5d2-75e2-4237-9f87-77b93b4e0f67",
   "metadata": {},
   "outputs": [],
   "source": []
  },
  {
   "cell_type": "markdown",
   "id": "2779a435-910f-48c4-9365-04d760737fcd",
   "metadata": {},
   "source": [
    "## Noted Few Observations"
   ]
  },
  {
   "cell_type": "raw",
   "id": "209210d0-9f0a-473d-9072-770043976c7d",
   "metadata": {},
   "source": [
    "- \"Special Characters\"\n",
    "- \"Lower Casing\"\n",
    "- \"subsitution of * with x\"\n",
    "- \"Removing Unnecssary Whitespaces\"\n",
    "- \"Removing Urls\"\n",
    "- \"replace & with and\"\n",
    "- \"Replace Model number or part number\"\n",
    "- \"Repeating phrases\""
   ]
  },
  {
   "cell_type": "markdown",
   "id": "78c7e0f5-36a1-4e52-99e8-af5d70ec5922",
   "metadata": {},
   "source": [
    "## Understanding Word Counts"
   ]
  },
  {
   "cell_type": "code",
   "execution_count": 44,
   "id": "496d84c7-b9fc-4b24-b18f-ffbb2e8a4722",
   "metadata": {},
   "outputs": [],
   "source": [
    "low_words_df = df[df['word_count'] < 5]"
   ]
  },
  {
   "cell_type": "code",
   "execution_count": 45,
   "id": "66f43722-d585-4d50-bc24-1ec7345f3c7d",
   "metadata": {},
   "outputs": [
    {
     "data": {
      "text/html": [
       "<div>\n",
       "<style scoped>\n",
       "    .dataframe tbody tr th:only-of-type {\n",
       "        vertical-align: middle;\n",
       "    }\n",
       "\n",
       "    .dataframe tbody tr th {\n",
       "        vertical-align: top;\n",
       "    }\n",
       "\n",
       "    .dataframe thead th {\n",
       "        text-align: right;\n",
       "    }\n",
       "</style>\n",
       "<table border=\"1\" class=\"dataframe\">\n",
       "  <thead>\n",
       "    <tr style=\"text-align: right;\">\n",
       "      <th></th>\n",
       "      <th>Class</th>\n",
       "      <th>Text</th>\n",
       "      <th>char_count</th>\n",
       "      <th>word_count</th>\n",
       "      <th>long_words</th>\n",
       "      <th>contains_hashtag</th>\n",
       "    </tr>\n",
       "  </thead>\n",
       "  <tbody>\n",
       "    <tr>\n",
       "      <th>581</th>\n",
       "      <td>Household</td>\n",
       "      <td>Quechua Arpenaz 50 Hammock</td>\n",
       "      <td>26</td>\n",
       "      <td>4</td>\n",
       "      <td>[]</td>\n",
       "      <td>False</td>\n",
       "    </tr>\n",
       "    <tr>\n",
       "      <th>909</th>\n",
       "      <td>Household</td>\n",
       "      <td>Ebee Multipurpose Rack (Blue)</td>\n",
       "      <td>29</td>\n",
       "      <td>4</td>\n",
       "      <td>[]</td>\n",
       "      <td>False</td>\n",
       "    </tr>\n",
       "    <tr>\n",
       "      <th>1341</th>\n",
       "      <td>Household</td>\n",
       "      <td>Tulip Recliner Chair (Black)</td>\n",
       "      <td>28</td>\n",
       "      <td>4</td>\n",
       "      <td>[]</td>\n",
       "      <td>False</td>\n",
       "    </tr>\n",
       "    <tr>\n",
       "      <th>1592</th>\n",
       "      <td>Household</td>\n",
       "      <td>Defianz Sit-Stand Desktop Workstation</td>\n",
       "      <td>37</td>\n",
       "      <td>4</td>\n",
       "      <td>[]</td>\n",
       "      <td>False</td>\n",
       "    </tr>\n",
       "    <tr>\n",
       "      <th>2884</th>\n",
       "      <td>Household</td>\n",
       "      <td>Colouring Book of Rangoli</td>\n",
       "      <td>26</td>\n",
       "      <td>4</td>\n",
       "      <td>[]</td>\n",
       "      <td>False</td>\n",
       "    </tr>\n",
       "    <tr>\n",
       "      <th>...</th>\n",
       "      <td>...</td>\n",
       "      <td>...</td>\n",
       "      <td>...</td>\n",
       "      <td>...</td>\n",
       "      <td>...</td>\n",
       "      <td>...</td>\n",
       "    </tr>\n",
       "    <tr>\n",
       "      <th>24565</th>\n",
       "      <td>Electronics</td>\n",
       "      <td>AmazonBasics Nylon CD/DVD Binder</td>\n",
       "      <td>32</td>\n",
       "      <td>4</td>\n",
       "      <td>[]</td>\n",
       "      <td>False</td>\n",
       "    </tr>\n",
       "    <tr>\n",
       "      <th>25430</th>\n",
       "      <td>Electronics</td>\n",
       "      <td>AmazonBasics Camera Sling Strap,Black</td>\n",
       "      <td>37</td>\n",
       "      <td>4</td>\n",
       "      <td>[]</td>\n",
       "      <td>False</td>\n",
       "    </tr>\n",
       "    <tr>\n",
       "      <th>25764</th>\n",
       "      <td>Electronics</td>\n",
       "      <td>Skylight</td>\n",
       "      <td>9</td>\n",
       "      <td>1</td>\n",
       "      <td>[]</td>\n",
       "      <td>False</td>\n",
       "    </tr>\n",
       "    <tr>\n",
       "      <th>25829</th>\n",
       "      <td>Electronics</td>\n",
       "      <td>Hemi Sync Metamusic Sampler</td>\n",
       "      <td>27</td>\n",
       "      <td>4</td>\n",
       "      <td>[]</td>\n",
       "      <td>False</td>\n",
       "    </tr>\n",
       "    <tr>\n",
       "      <th>26402</th>\n",
       "      <td>Electronics</td>\n",
       "      <td>PANASONIC PI-HPN103CL Pro-HD+ CAMEREA</td>\n",
       "      <td>37</td>\n",
       "      <td>4</td>\n",
       "      <td>[]</td>\n",
       "      <td>False</td>\n",
       "    </tr>\n",
       "  </tbody>\n",
       "</table>\n",
       "<p>536 rows × 6 columns</p>\n",
       "</div>"
      ],
      "text/plain": [
       "             Class                                   Text  char_count  \\\n",
       "581      Household             Quechua Arpenaz 50 Hammock          26   \n",
       "909      Household          Ebee Multipurpose Rack (Blue)          29   \n",
       "1341     Household           Tulip Recliner Chair (Black)          28   \n",
       "1592     Household  Defianz Sit-Stand Desktop Workstation          37   \n",
       "2884     Household             Colouring Book of Rangoli           26   \n",
       "...            ...                                    ...         ...   \n",
       "24565  Electronics       AmazonBasics Nylon CD/DVD Binder          32   \n",
       "25430  Electronics  AmazonBasics Camera Sling Strap,Black          37   \n",
       "25764  Electronics                              Skylight            9   \n",
       "25829  Electronics            Hemi Sync Metamusic Sampler          27   \n",
       "26402  Electronics  PANASONIC PI-HPN103CL Pro-HD+ CAMEREA          37   \n",
       "\n",
       "       word_count long_words  contains_hashtag  \n",
       "581             4         []             False  \n",
       "909             4         []             False  \n",
       "1341            4         []             False  \n",
       "1592            4         []             False  \n",
       "2884            4         []             False  \n",
       "...           ...        ...               ...  \n",
       "24565           4         []             False  \n",
       "25430           4         []             False  \n",
       "25764           1         []             False  \n",
       "25829           4         []             False  \n",
       "26402           4         []             False  \n",
       "\n",
       "[536 rows x 6 columns]"
      ]
     },
     "execution_count": 45,
     "metadata": {},
     "output_type": "execute_result"
    }
   ],
   "source": [
    "low_words_df"
   ]
  },
  {
   "cell_type": "code",
   "execution_count": 46,
   "id": "2581ca58-65b4-4318-93a5-abf258ab6d48",
   "metadata": {},
   "outputs": [],
   "source": [
    "high_words_df = df[df['word_count'] > 1000]"
   ]
  },
  {
   "cell_type": "code",
   "execution_count": 47,
   "id": "4ed9fc39-6e33-417a-b634-747a9cfabba7",
   "metadata": {},
   "outputs": [
    {
     "data": {
      "text/html": [
       "<div>\n",
       "<style scoped>\n",
       "    .dataframe tbody tr th:only-of-type {\n",
       "        vertical-align: middle;\n",
       "    }\n",
       "\n",
       "    .dataframe tbody tr th {\n",
       "        vertical-align: top;\n",
       "    }\n",
       "\n",
       "    .dataframe thead th {\n",
       "        text-align: right;\n",
       "    }\n",
       "</style>\n",
       "<table border=\"1\" class=\"dataframe\">\n",
       "  <thead>\n",
       "    <tr style=\"text-align: right;\">\n",
       "      <th></th>\n",
       "      <th>Class</th>\n",
       "      <th>Text</th>\n",
       "      <th>char_count</th>\n",
       "      <th>word_count</th>\n",
       "      <th>long_words</th>\n",
       "      <th>contains_hashtag</th>\n",
       "    </tr>\n",
       "  </thead>\n",
       "  <tbody>\n",
       "    <tr>\n",
       "      <th>77</th>\n",
       "      <td>Household</td>\n",
       "      <td>The Overlocker Technique Manual: The Complete ...</td>\n",
       "      <td>10168</td>\n",
       "      <td>1791</td>\n",
       "      <td>[]</td>\n",
       "      <td>False</td>\n",
       "    </tr>\n",
       "    <tr>\n",
       "      <th>5203</th>\n",
       "      <td>Household</td>\n",
       "      <td>The Unofficial Harry Potter Cookbook: From Cau...</td>\n",
       "      <td>6670</td>\n",
       "      <td>1090</td>\n",
       "      <td>[]</td>\n",
       "      <td>False</td>\n",
       "    </tr>\n",
       "    <tr>\n",
       "      <th>5480</th>\n",
       "      <td>Household</td>\n",
       "      <td>Lock&amp;Lock Classics Tall Rectangular Bread Box,...</td>\n",
       "      <td>6604</td>\n",
       "      <td>1013</td>\n",
       "      <td>[]</td>\n",
       "      <td>False</td>\n",
       "    </tr>\n",
       "    <tr>\n",
       "      <th>5484</th>\n",
       "      <td>Household</td>\n",
       "      <td>Lock&amp;Lock Classics Rectangular Food Container ...</td>\n",
       "      <td>6623</td>\n",
       "      <td>1019</td>\n",
       "      <td>[]</td>\n",
       "      <td>False</td>\n",
       "    </tr>\n",
       "    <tr>\n",
       "      <th>7907</th>\n",
       "      <td>Household</td>\n",
       "      <td>KitchenAid Artisan 5KSM150PSDER 10 Speed 4.7 L...</td>\n",
       "      <td>8308</td>\n",
       "      <td>1305</td>\n",
       "      <td>[]</td>\n",
       "      <td>False</td>\n",
       "    </tr>\n",
       "    <tr>\n",
       "      <th>...</th>\n",
       "      <td>...</td>\n",
       "      <td>...</td>\n",
       "      <td>...</td>\n",
       "      <td>...</td>\n",
       "      <td>...</td>\n",
       "      <td>...</td>\n",
       "    </tr>\n",
       "    <tr>\n",
       "      <th>23652</th>\n",
       "      <td>Electronics</td>\n",
       "      <td>Traffic: Why We Drive the Way We Do (and What ...</td>\n",
       "      <td>6594</td>\n",
       "      <td>1017</td>\n",
       "      <td>[]</td>\n",
       "      <td>False</td>\n",
       "    </tr>\n",
       "    <tr>\n",
       "      <th>24052</th>\n",
       "      <td>Electronics</td>\n",
       "      <td>Quick Heal Total Security Latest Version - 2 P...</td>\n",
       "      <td>12473</td>\n",
       "      <td>1870</td>\n",
       "      <td>[]</td>\n",
       "      <td>False</td>\n",
       "    </tr>\n",
       "    <tr>\n",
       "      <th>25759</th>\n",
       "      <td>Electronics</td>\n",
       "      <td>Skylight Review \"The inklings of Saramago s st...</td>\n",
       "      <td>7115</td>\n",
       "      <td>1111</td>\n",
       "      <td>[]</td>\n",
       "      <td>False</td>\n",
       "    </tr>\n",
       "    <tr>\n",
       "      <th>26210</th>\n",
       "      <td>Electronics</td>\n",
       "      <td>Nikon D5300 24.2MP Digital SLR Camera(Black) w...</td>\n",
       "      <td>11319</td>\n",
       "      <td>1703</td>\n",
       "      <td>[]</td>\n",
       "      <td>False</td>\n",
       "    </tr>\n",
       "    <tr>\n",
       "      <th>26264</th>\n",
       "      <td>Electronics</td>\n",
       "      <td>Deception Point About the Author Dan Brown is ...</td>\n",
       "      <td>12372</td>\n",
       "      <td>1997</td>\n",
       "      <td>[]</td>\n",
       "      <td>True</td>\n",
       "    </tr>\n",
       "  </tbody>\n",
       "</table>\n",
       "<p>82 rows × 6 columns</p>\n",
       "</div>"
      ],
      "text/plain": [
       "             Class                                               Text  \\\n",
       "77       Household  The Overlocker Technique Manual: The Complete ...   \n",
       "5203     Household  The Unofficial Harry Potter Cookbook: From Cau...   \n",
       "5480     Household  Lock&Lock Classics Tall Rectangular Bread Box,...   \n",
       "5484     Household  Lock&Lock Classics Rectangular Food Container ...   \n",
       "7907     Household  KitchenAid Artisan 5KSM150PSDER 10 Speed 4.7 L...   \n",
       "...            ...                                                ...   \n",
       "23652  Electronics  Traffic: Why We Drive the Way We Do (and What ...   \n",
       "24052  Electronics  Quick Heal Total Security Latest Version - 2 P...   \n",
       "25759  Electronics  Skylight Review \"The inklings of Saramago s st...   \n",
       "26210  Electronics  Nikon D5300 24.2MP Digital SLR Camera(Black) w...   \n",
       "26264  Electronics  Deception Point About the Author Dan Brown is ...   \n",
       "\n",
       "       char_count  word_count long_words  contains_hashtag  \n",
       "77          10168        1791         []             False  \n",
       "5203         6670        1090         []             False  \n",
       "5480         6604        1013         []             False  \n",
       "5484         6623        1019         []             False  \n",
       "7907         8308        1305         []             False  \n",
       "...           ...         ...        ...               ...  \n",
       "23652        6594        1017         []             False  \n",
       "24052       12473        1870         []             False  \n",
       "25759        7115        1111         []             False  \n",
       "26210       11319        1703         []             False  \n",
       "26264       12372        1997         []              True  \n",
       "\n",
       "[82 rows x 6 columns]"
      ]
     },
     "execution_count": 47,
     "metadata": {},
     "output_type": "execute_result"
    }
   ],
   "source": [
    "high_words_df"
   ]
  },
  {
   "cell_type": "code",
   "execution_count": 49,
   "id": "bd0c332b-78ff-4e66-a1d3-26b677c0410e",
   "metadata": {
    "scrolled": true,
    "tags": []
   },
   "outputs": [
    {
     "data": {
      "text/plain": [
       "\"The Overlocker Technique Manual: The Complete Guide to Serging and Decorative Stitching Review Aug 2014 This is the third of the books that Search Press sent to me for review purposes. I chose to review it because although more and more home sewists are investing in overlockers (or `sergers'), it seems to me that they are often perceived as `scary' machines - so I thought this book might appeal! I bought my overlocker in 2011 and it probably wasn't until last year that I actually nailed how to rethread the thing quickly. To be perfectly honest, it wasn't the threading that was an issue: although a bit fiddly, I can do that bit in a couple of minutes. No, it was getting the tension of all the threads right that took hours. It became like a jackpot - sometimes I would rethread and it would be fine straight away, and other times I would fiddle about for hours. One day last year, out of pure frustration, whilst feeding my test scraps of fabric through and trying to get the right tension, I manually pulled each of the four threads in turn as they were feeding through, making the tension incredibly tight for a short time and then letting go and letting it feed through normally. For some unknown reason, it worked a treat, and this is what I do each time now if it isn't working properly. So, it took me two years to be able to confidently rethread my machine. I knew my machine had uses other than finishing raw edges and sewing knits, but until a few weeks ago when I sat down in front of the overlocker with this book at hand, I hadn't experimented at all. Why? I suppose time was a factor. Who wants to spend hours on end faffing around with an overlocker? I could make a dress in that time! But this book review was the incentive I needed to get down to business - how could I review a book properly without putting it to the test? Readers - I gave this book a thorough test. I worked my way through this book in maybe 5 or 6 hours, starting right at the beginning and working through in order. As I began to work through the book, my main question for the purposes of this review was: how is this book different to my instruction manual? After all, there is no value in buying a book that is the same as the overlocker's manual (unless, of course, you don't have the manual for your machine). The book is divided into three chapters: `Overlocking Basics', `Techniques' and `Quick Constructions'. Working in conjunction with this book and my overlocker instruction manual, I familiarised myself with what each bit of the overlocker is called and what it is/can be used for. Some of this I already knew, but I did learn some new things and as a result of the exercise I now have quite a thorough understanding of the machine. In the three years of owning my overlocker, only once have I changed the differential feed - I did this to help gather up the hem of a circle skirt. The book taught me that when the differential feed is a higher number than `N' (normal), the front teeth of the feed dog move more quickly than the back teeth, and this creates gathering. When the differential feed is lower than `N', the front teeth move more slowly than the back teeth, to create a stretch effect (depending upon the fabric type, of course). One thing that I had always found confusing in my overlocker manual was something it referred to as `size of bight', and elsewhere in the manual `width of bite'. This `bight'/'bite': I had no idea what it was - only that I could widen it if I wanted. But the book taught me that it's the cutting width - perhaps this `bight'/'bite' is a translation error in my manual or something? Either way, I'm glad to have finally got that information straight! Under the guidance of this book, I learnt how to retract the upper knife, how to adjust the stitch width, and how to remove the stitch finger. This enabled me to stitch a teeny tiny rolled hem! I'm so pleased I learnt how to do this, I can definitely see me using this function a lot. I also learnt how to make pin-tucks on the overlocker, French seams, welt seams and fell seams. I would never have considered using my overlocker before for any of these seam finishes. It isn't exactly rocket science, but it was good to learn some alternative methods. The book tells you how to use a variety of different attachments, such as elastic and beading attachments and piping, blind-hemming, gathering, bias binding, taping and cording feet. My machine only has one foot, but this foot doubles up as a cording foot due to the small hole in the top of the foot through which one can feed cord. With the help of the book I learnt how to overlock over a piece of cord or yarn (for decorative purposes), and how to overlock over stabilising tape, which will be useful when constructing seams of knit garments that need extra stabilisation, such as shoulder seams and waist seams. I didn't have any clear elastic to practise with, but I imagine that would work on the same principle as the seam tape. So far so good. The techniques section of this book really did enable me to get to grips with my machine. I learnt new techniques that I will definitely use again, and these techniques were explained in a much clearer way than in my manual, and with clear photographs too. The `Quick Constructions' section is comprised of a series of simple projects in which you can test out your newly acquired overlocking skills. The projects are basic, and nothing to write home about. The chapter does finish with a `Guide to Fabrics' section though - giving guidance on different fabrics and what size needles they would be best paired with, what differential feed to use, what stitch length is best, suggested tension settings and tips on hemming techniques. These four pages are very, very useful. The biggest disappointment of this book was that there was no mention of the care and maintenance of your overlocker - for instance how (and where) to oil it, how to remove the needle plate and clean the feed dogs, how to change the bulb, the blades etc. After all the time I spent learning about how to use the machine, I felt so invested in it that I was willing to spend another hour giving it a mini home-service, but the book doesn't touch on this at all, which I think is a great shame. I may have learnt a lot about the functionality of the machine, but I'm still a bit nervous about taking it to pieces to clean it properly! Boo! One other, small, gripe: it suggests overlocking with different types of thread to achieve different effects, for example using thread that changes colour, metallic thread, woolly nylon, embroidery thread, even yarn...which is all very well and good if these are wound onto a bobbin, but when I attempted to use some metallic pearl cotton from a skein, I was left wondering how on earth to wind it suitably and place it securely onto the bobbin holder?? Overall, this is a good book to have. I've learnt a lot from it and, although it is not tailored specifically to my exact model of machine, it has been a lot more useful than the manual itself has ever been. I would recommend the book to people who have overlockers with no manual, or to people who want to get more from their machines and try new techniques. * threadcarefully.com * Feb 14 Want a professional finish to your sewing? An overlocker is the answer. It provides professional seams, hems and edges. This manual provides step-by-step instructions to guide you through the essential techniques. Find out how to get the very best from your overlocker - it is more versatile than you think. A range of projects will help hone your skills. Useful for all skill levels; to learn, remind or keep as a resource. Clear instructions and photographs. * Karen Platt Yarnsandfabrics.co.uk/crafts * June 14 Whether you have just bought an overlocker for the first time, or you have had one for years but barely used it, this manual will enable you to get the most out of your machine! An in-depth introduction to the basics answers any questions you might have and explains with clear illustrations exactly how to use and adjust your overlocker for professional results. Once you are confi dent overlocking simple seams you can move onto the techniques section which is a comprehensive guide to the more decorative uses of an overlocker, including using different feet for gathering, beading and bias binding amongst others. Each technique is well illustrated with photographs and step-by-step instructions and the quick constructions allow you to practice the techniques you have learnt whilst simultaneously making desirable projects. * SEWING WORLD * May 14 Are you too scared to get an overlocker out of its box? This book for all skills includes photographs, diagrams and illustrations with every basic detail to get started. Once you've got to grips with an overlocker, you'll never look back. It's easy to thread up and sew, edge fabrics quickly and create a perfect finish. Step-by-step instructions ensure you get the best results with any fabric, including knitting. * Machine Knitting Monthly * \\t\\t\\t\\t    \\t \\t\\t\\t\\t\\t About the Author Julia Hincks is a teacher and textile artist. From an early age she has sewn, knitted, and crocheted, learning these skills from her mother and grandmothers. She has managed what many of us dream and aspire to do and combines her hobbies with a successful career. She began her teaching career in 2002, initially working with primary school children and running an after school craft club. As a mature student, Julia returned to college to study Art and Design at City College Brighton and Hove. She completed her diploma and soon after began working for City College teaching Dressmaking. She currently teaches Dressmaking, Pattern Cutting, Knitting, and Crochet classes at City College and Friends Centre in Brighton, where she has developed a loyal student following and many return time after time to ensure continuous improvement in their skills. She inspires adults to take up these crafts and develop their skills. Julia also undertakes commissions and is currently developing a range of ethically sourced childrenswear for a local upcoming business.\""
      ]
     },
     "execution_count": 49,
     "metadata": {},
     "output_type": "execute_result"
    }
   ],
   "source": [
    "df.at[77, 'Text']"
   ]
  },
  {
   "cell_type": "markdown",
   "id": "3cfe1524-4f55-46eb-ae21-210cb5b66bff",
   "metadata": {},
   "source": [
    "## Checking Hastags"
   ]
  },
  {
   "cell_type": "code",
   "execution_count": 50,
   "id": "5b7c2604-f260-4f9c-b149-3c7cb07f8b4b",
   "metadata": {},
   "outputs": [
    {
     "name": "stdout",
     "output_type": "stream",
     "text": [
      "Rows with hashtags: 206\n",
      "Rows without hashtags: 27596\n"
     ]
    }
   ],
   "source": [
    "import re\n",
    "# df = pd.DataFrame(data)\n",
    "\n",
    "# Function to check for hashtags in text\n",
    "def contains_hashtag(text):\n",
    "    return bool(re.search(r'#\\S+', text))  # Regex to check for hashtags\n",
    "\n",
    "# Apply function to check for hashtags\n",
    "df['contains_hashtag'] = df['Text'].apply(contains_hashtag)\n",
    "\n",
    "# Count rows with and without hashtags\n",
    "hashtag_count = df['contains_hashtag'].sum()\n",
    "no_hashtag_count = len(df) - hashtag_count\n",
    "\n",
    "# Display counts\n",
    "print(f\"Rows with hashtags: {hashtag_count}\")\n",
    "print(f\"Rows without hashtags: {no_hashtag_count}\")"
   ]
  },
  {
   "cell_type": "markdown",
   "id": "88100a19-991e-4ad0-9f1f-d91cb31d477f",
   "metadata": {},
   "source": [
    "## Understanding common words and bi-grams and tri-grams"
   ]
  },
  {
   "cell_type": "code",
   "execution_count": 55,
   "id": "188f7134-27e4-4b94-968e-9f3cdaa0e822",
   "metadata": {},
   "outputs": [
    {
     "name": "stderr",
     "output_type": "stream",
     "text": [
      "[nltk_data] Downloading package stopwords to /home/ubuntu/nltk_data...\n",
      "[nltk_data]   Package stopwords is already up-to-date!\n"
     ]
    },
    {
     "name": "stdout",
     "output_type": "stream",
     "text": [
      "Most Common Words: [('the', 20357), ('this', 9266), ('it', 8004), ('x', 6816), ('made', 5993), ('easy', 5627), ('set', 5503), ('also', 5396), ('quality', 5283), ('one', 5125)]\n"
     ]
    }
   ],
   "source": [
    "from collections import Counter\n",
    "import nltk\n",
    "\n",
    "# Ensure you have the necessary nltk resources (like stopwords)\n",
    "nltk.download('stopwords')\n",
    "from nltk.corpus import stopwords\n",
    "\n",
    "# Tokenize the text and remove stopwords\n",
    "stop_words = set(stopwords.words('english'))\n",
    "\n",
    "# Function to clean and tokenize text\n",
    "def tokenize_and_clean(text):\n",
    "    # Tokenize the text\n",
    "    words = text.split()\n",
    "    # Remove stopwords and non-alphabetical characters\n",
    "    words = [word.lower() for word in words if word.isalpha() and word not in stop_words]\n",
    "    return words\n",
    "\n",
    "# Apply tokenization\n",
    "df['tokens'] = df['Text'].apply(tokenize_and_clean)\n",
    "\n",
    "# Get all tokens from the entire dataset\n",
    "all_tokens = [token for sublist in df['tokens'] for token in sublist]\n",
    "\n",
    "# Count word frequencies\n",
    "word_counts = Counter(all_tokens)\n",
    "\n",
    "# Display the 10 most common words\n",
    "print(\"Most Common Words:\", word_counts.most_common(10))\n"
   ]
  },
  {
   "cell_type": "code",
   "execution_count": 53,
   "id": "101ef569-46c7-4c4c-b25b-97d790a53546",
   "metadata": {},
   "outputs": [
    {
     "data": {
      "text/html": [
       "<div>\n",
       "<style scoped>\n",
       "    .dataframe tbody tr th:only-of-type {\n",
       "        vertical-align: middle;\n",
       "    }\n",
       "\n",
       "    .dataframe tbody tr th {\n",
       "        vertical-align: top;\n",
       "    }\n",
       "\n",
       "    .dataframe thead th {\n",
       "        text-align: right;\n",
       "    }\n",
       "</style>\n",
       "<table border=\"1\" class=\"dataframe\">\n",
       "  <thead>\n",
       "    <tr style=\"text-align: right;\">\n",
       "      <th></th>\n",
       "      <th>Class</th>\n",
       "      <th>Text</th>\n",
       "      <th>char_count</th>\n",
       "      <th>word_count</th>\n",
       "      <th>long_words</th>\n",
       "      <th>contains_hashtag</th>\n",
       "      <th>tokens</th>\n",
       "    </tr>\n",
       "  </thead>\n",
       "  <tbody>\n",
       "    <tr>\n",
       "      <th>0</th>\n",
       "      <td>Household</td>\n",
       "      <td>Paper Plane Design Framed Wall Hanging Motivat...</td>\n",
       "      <td>1338</td>\n",
       "      <td>228</td>\n",
       "      <td>[]</td>\n",
       "      <td>False</td>\n",
       "      <td>[paper, plane, design, framed, wall, hanging, ...</td>\n",
       "    </tr>\n",
       "    <tr>\n",
       "      <th>1</th>\n",
       "      <td>Household</td>\n",
       "      <td>SAF 'Floral' Framed Painting (Wood, 30 inch x ...</td>\n",
       "      <td>346</td>\n",
       "      <td>59</td>\n",
       "      <td>[]</td>\n",
       "      <td>False</td>\n",
       "      <td>[saf, framed, painting, inch, x, special, effe...</td>\n",
       "    </tr>\n",
       "    <tr>\n",
       "      <th>2</th>\n",
       "      <td>Household</td>\n",
       "      <td>SAF 'UV Textured Modern Art Print Framed' Pain...</td>\n",
       "      <td>1316</td>\n",
       "      <td>224</td>\n",
       "      <td>[]</td>\n",
       "      <td>False</td>\n",
       "      <td>[saf, textured, modern, art, print, painting, ...</td>\n",
       "    </tr>\n",
       "    <tr>\n",
       "      <th>3</th>\n",
       "      <td>Household</td>\n",
       "      <td>SAF Flower Print Framed Painting (Synthetic, 1...</td>\n",
       "      <td>1091</td>\n",
       "      <td>184</td>\n",
       "      <td>[]</td>\n",
       "      <td>False</td>\n",
       "      <td>[saf, flower, print, framed, painting, inch, x...</td>\n",
       "    </tr>\n",
       "    <tr>\n",
       "      <th>4</th>\n",
       "      <td>Household</td>\n",
       "      <td>Incredible Gifts India Wooden Happy Birthday U...</td>\n",
       "      <td>989</td>\n",
       "      <td>184</td>\n",
       "      <td>[]</td>\n",
       "      <td>False</td>\n",
       "      <td>[incredible, gifts, india, wooden, happy, birt...</td>\n",
       "    </tr>\n",
       "    <tr>\n",
       "      <th>...</th>\n",
       "      <td>...</td>\n",
       "      <td>...</td>\n",
       "      <td>...</td>\n",
       "      <td>...</td>\n",
       "      <td>...</td>\n",
       "      <td>...</td>\n",
       "      <td>...</td>\n",
       "    </tr>\n",
       "    <tr>\n",
       "      <th>27797</th>\n",
       "      <td>Electronics</td>\n",
       "      <td>Micromax Bharat 5 Plus Zero impact on visual d...</td>\n",
       "      <td>144</td>\n",
       "      <td>24</td>\n",
       "      <td>[]</td>\n",
       "      <td>False</td>\n",
       "      <td>[micromax, bharat, plus, zero, impact, visual,...</td>\n",
       "    </tr>\n",
       "    <tr>\n",
       "      <th>27798</th>\n",
       "      <td>Electronics</td>\n",
       "      <td>Microsoft Lumia 550 8GB 4G Black Microsoft lum...</td>\n",
       "      <td>1924</td>\n",
       "      <td>338</td>\n",
       "      <td>[]</td>\n",
       "      <td>False</td>\n",
       "      <td>[microsoft, lumia, black, microsoft, lumia, ex...</td>\n",
       "    </tr>\n",
       "    <tr>\n",
       "      <th>27799</th>\n",
       "      <td>Electronics</td>\n",
       "      <td>Microsoft Lumia 535 (Black, 8GB) Colour:Black ...</td>\n",
       "      <td>3931</td>\n",
       "      <td>660</td>\n",
       "      <td>[]</td>\n",
       "      <td>False</td>\n",
       "      <td>[microsoft, lumia, product, description, high,...</td>\n",
       "    </tr>\n",
       "    <tr>\n",
       "      <th>27800</th>\n",
       "      <td>Electronics</td>\n",
       "      <td>Karbonn Titanium Wind W4 (White) Karbonn Titan...</td>\n",
       "      <td>1653</td>\n",
       "      <td>288</td>\n",
       "      <td>[]</td>\n",
       "      <td>False</td>\n",
       "      <td>[karbonn, titanium, wind, karbonn, titanium, w...</td>\n",
       "    </tr>\n",
       "    <tr>\n",
       "      <th>27801</th>\n",
       "      <td>Electronics</td>\n",
       "      <td>Nokia Lumia 530 (Dual SIM, Grey) Colour:Grey  ...</td>\n",
       "      <td>2463</td>\n",
       "      <td>411</td>\n",
       "      <td>[]</td>\n",
       "      <td>False</td>\n",
       "      <td>[nokia, lumia, product, description, through, ...</td>\n",
       "    </tr>\n",
       "  </tbody>\n",
       "</table>\n",
       "<p>27802 rows × 7 columns</p>\n",
       "</div>"
      ],
      "text/plain": [
       "             Class                                               Text  \\\n",
       "0        Household  Paper Plane Design Framed Wall Hanging Motivat...   \n",
       "1        Household  SAF 'Floral' Framed Painting (Wood, 30 inch x ...   \n",
       "2        Household  SAF 'UV Textured Modern Art Print Framed' Pain...   \n",
       "3        Household  SAF Flower Print Framed Painting (Synthetic, 1...   \n",
       "4        Household  Incredible Gifts India Wooden Happy Birthday U...   \n",
       "...            ...                                                ...   \n",
       "27797  Electronics  Micromax Bharat 5 Plus Zero impact on visual d...   \n",
       "27798  Electronics  Microsoft Lumia 550 8GB 4G Black Microsoft lum...   \n",
       "27799  Electronics  Microsoft Lumia 535 (Black, 8GB) Colour:Black ...   \n",
       "27800  Electronics  Karbonn Titanium Wind W4 (White) Karbonn Titan...   \n",
       "27801  Electronics  Nokia Lumia 530 (Dual SIM, Grey) Colour:Grey  ...   \n",
       "\n",
       "       char_count  word_count long_words  contains_hashtag  \\\n",
       "0            1338         228         []             False   \n",
       "1             346          59         []             False   \n",
       "2            1316         224         []             False   \n",
       "3            1091         184         []             False   \n",
       "4             989         184         []             False   \n",
       "...           ...         ...        ...               ...   \n",
       "27797         144          24         []             False   \n",
       "27798        1924         338         []             False   \n",
       "27799        3931         660         []             False   \n",
       "27800        1653         288         []             False   \n",
       "27801        2463         411         []             False   \n",
       "\n",
       "                                                  tokens  \n",
       "0      [paper, plane, design, framed, wall, hanging, ...  \n",
       "1      [saf, framed, painting, inch, x, special, effe...  \n",
       "2      [saf, textured, modern, art, print, painting, ...  \n",
       "3      [saf, flower, print, framed, painting, inch, x...  \n",
       "4      [incredible, gifts, india, wooden, happy, birt...  \n",
       "...                                                  ...  \n",
       "27797  [micromax, bharat, plus, zero, impact, visual,...  \n",
       "27798  [microsoft, lumia, black, microsoft, lumia, ex...  \n",
       "27799  [microsoft, lumia, product, description, high,...  \n",
       "27800  [karbonn, titanium, wind, karbonn, titanium, w...  \n",
       "27801  [nokia, lumia, product, description, through, ...  \n",
       "\n",
       "[27802 rows x 7 columns]"
      ]
     },
     "execution_count": 53,
     "metadata": {},
     "output_type": "execute_result"
    }
   ],
   "source": [
    "df"
   ]
  },
  {
   "cell_type": "code",
   "execution_count": 56,
   "id": "2d3d688b-6534-47a3-9196-666f5e8c735f",
   "metadata": {},
   "outputs": [
    {
     "name": "stdout",
     "output_type": "stream",
     "text": [
      "Most Common Bigrams: [(('about', 'author'), 2741), (('stainless', 'steel'), 2178), (('high', 'quality'), 1546), (('x', 'x'), 1393), (('product', 'description'), 973), (('new', 'york'), 851), (('cm', 'x'), 550), (('see', 'product'), 547), (('it', 'also'), 532), (('york', 'times'), 516)]\n",
      "Most Common Trigrams: [(('see', 'product', 'description'), 546), (('new', 'york', 'times'), 480), (('x', 'x', 'x'), 360), (('made', 'high', 'quality'), 342), (('x', 'cm', 'x'), 253), (('cm', 'x', 'cm'), 243), (('about', 'author', 'an'), 175), (('team', 'highly', 'skilled'), 170), (('brand', 'new', 'high'), 164), (('an', 'editorial', 'team'), 164)]\n"
     ]
    }
   ],
   "source": [
    "from nltk import ngrams\n",
    "\n",
    "# Function to generate bigrams and trigrams\n",
    "def get_ngrams(tokens, n):\n",
    "    return list(ngrams(tokens, n))\n",
    "\n",
    "# Generate bigrams and trigrams for the entire dataset\n",
    "df['bigrams'] = df['tokens'].apply(lambda tokens: get_ngrams(tokens, 2))\n",
    "df['trigrams'] = df['tokens'].apply(lambda tokens: get_ngrams(tokens, 3))\n",
    "\n",
    "# Flatten the bigram and trigram lists\n",
    "all_bigrams = [bigram for sublist in df['bigrams'] for bigram in sublist]\n",
    "all_trigrams = [trigram for sublist in df['trigrams'] for trigram in sublist]\n",
    "\n",
    "# Count bigram and trigram frequencies\n",
    "bigram_counts = Counter(all_bigrams)\n",
    "trigram_counts = Counter(all_trigrams)\n",
    "\n",
    "# Display the 10 most common bigrams and trigrams\n",
    "print(\"Most Common Bigrams:\", bigram_counts.most_common(10))\n",
    "print(\"Most Common Trigrams:\", trigram_counts.most_common(10))"
   ]
  },
  {
   "cell_type": "code",
   "execution_count": null,
   "id": "3b522ce8-23b0-4563-93b5-ada902e7bff7",
   "metadata": {},
   "outputs": [],
   "source": []
  },
  {
   "cell_type": "code",
   "execution_count": null,
   "id": "136c5d1f-560b-4856-92c2-33361a30aaa1",
   "metadata": {},
   "outputs": [],
   "source": []
  }
 ],
 "metadata": {
  "kernelspec": {
   "display_name": "Python 3 (ipykernel)",
   "language": "python",
   "name": "python3"
  },
  "language_info": {
   "codemirror_mode": {
    "name": "ipython",
    "version": 3
   },
   "file_extension": ".py",
   "mimetype": "text/x-python",
   "name": "python",
   "nbconvert_exporter": "python",
   "pygments_lexer": "ipython3",
   "version": "3.9.16"
  }
 },
 "nbformat": 4,
 "nbformat_minor": 5
}
